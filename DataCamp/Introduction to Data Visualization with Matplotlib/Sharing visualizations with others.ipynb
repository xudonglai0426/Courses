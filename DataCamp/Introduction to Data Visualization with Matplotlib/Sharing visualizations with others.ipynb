{
 "cells": [
  {
   "cell_type": "code",
   "execution_count": null,
   "metadata": {},
   "outputs": [],
   "source": [
    "# Use the \"ggplot\" style and create new Figure/Axes\n",
    "plt.style.use(\"ggplot\")\n",
    "fig,ax=plt.subplots()\n",
    "ax.plot(seattle_weather[\"MONTH\"], seattle_weather[\"MLY-TAVG-NORMAL\"])\n",
    "plt.show()\n",
    "\n",
    "# Use the \"Solarize_Light2\" style and create new Figure/Axes\n",
    "plt.style.use('Solarize_Light2')\n",
    "fig,ax=plt.subplots()\n",
    "ax.plot(austin_weather[\"MONTH\"], austin_weather[\"MLY-TAVG-NORMAL\"])\n",
    "plt.show()\n",
    "\n",
    "# Save as a PNG file\n",
    "fig.savefig(\"my_figure.png\")\n",
    "\n",
    "# Save as a PNG file with 300 dpi\n",
    "fig.savefig(\"my_figure_300dpi.png\",dpi=300)\n",
    "\n",
    "# Set figure dimensions and save as a PNG\n",
    "fig.set_size_inches([3,5])\n",
    "fig.savefig('figure_3_5.png')\n",
    "\n",
    "# Extract the \"Sport\" column\n",
    "sports_column = summer_2016_medals.Sport\n",
    "\n",
    "# Find the unique values of the \"Sport\" column\n",
    "sports = sports_column.unique()\n",
    "\n",
    "# Print out the unique sports values\n",
    "print(sports)\n",
    "\n",
    "fig, ax = plt.subplots()\n",
    "\n",
    "# Loop over the different sports branches\n",
    "for sport in sports:\n",
    "  # Extract the rows only for this sport\n",
    "  sport_df = summer_2016_medals[summer_2016_medals.Sport==sport]\n",
    "  # Add a bar for the \"Weight\" mean with std y error bar\n",
    "  ax.bar(sport,sport_df.Weight.mean(),yerr=sport_df.Weight.std())\n",
    "\n",
    "ax.set_ylabel(\"Weight\")\n",
    "ax.set_xticklabels(sports, rotation=90)\n",
    "\n",
    "# Save the figure to file\n",
    "fig.savefig(\"sports_weights.png\")"
   ]
  }
 ],
 "metadata": {
  "kernelspec": {
   "display_name": "Python 3",
   "language": "python",
   "name": "python3"
  },
  "language_info": {
   "codemirror_mode": {
    "name": "ipython",
    "version": 3
   },
   "file_extension": ".py",
   "mimetype": "text/x-python",
   "name": "python",
   "nbconvert_exporter": "python",
   "pygments_lexer": "ipython3",
   "version": "3.7.4"
  }
 },
 "nbformat": 4,
 "nbformat_minor": 2
}
